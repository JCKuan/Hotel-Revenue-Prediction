{
 "cells": [
  {
   "cell_type": "markdown",
   "metadata": {},
   "source": [
    "# LogReg on **is_canceled**/ LinReg on **adr** (selected features)\n",
    "**___**\n",
    "## Preprocessing."
   ]
  },
  {
   "cell_type": "code",
   "execution_count": 1,
   "metadata": {},
   "outputs": [
    {
     "name": "stdout",
     "output_type": "stream",
     "text": [
      "ID                                           0\n",
      "hotel                             Resort Hotel\n",
      "is_canceled                                  0\n",
      "lead_time                                  342\n",
      "arrival_date_year                         2015\n",
      "arrival_date_month                        July\n",
      "arrival_date_week_number                    27\n",
      "arrival_date_day_of_month                    1\n",
      "stays_in_weekend_nights                      0\n",
      "stays_in_week_nights                         0\n",
      "adults                                       2\n",
      "children                                     0\n",
      "babies                                       0\n",
      "meal                                        BB\n",
      "country                                    PRT\n",
      "market_segment                          Direct\n",
      "distribution_channel                    Direct\n",
      "is_repeated_guest                            0\n",
      "previous_cancellations                       0\n",
      "previous_bookings_not_canceled               0\n",
      "reserved_room_type                           C\n",
      "assigned_room_type                           C\n",
      "booking_changes                              3\n",
      "deposit_type                        No Deposit\n",
      "agent                                      NaN\n",
      "company                                    NaN\n",
      "days_in_waiting_list                         0\n",
      "customer_type                        Transient\n",
      "adr                                   -6.30516\n",
      "required_car_parking_spaces                  0\n",
      "total_of_special_requests                    0\n",
      "reservation_status                   Check-Out\n",
      "reservation_status_date             2015-07-01\n",
      "Name: 0, dtype: object\n",
      "   arrival_date_year arrival_date_month  arrival_date_day_of_month  \\\n",
      "0               2015               July                          1   \n",
      "1               2015               July                          1   \n",
      "2               2015               July                          1   \n",
      "3               2015               July                          1   \n",
      "4               2015               July                          1   \n",
      "\n",
      "   is_canceled        adr  stays_in_weekend_nights  stays_in_week_nights  \\\n",
      "0            0  -6.305161                        0                     0   \n",
      "1            0  75.052227                        0                     2   \n",
      "2            0  74.546401                        0                     2   \n",
      "3            0  76.376288                        0                     2   \n",
      "4            0  49.411647                        0                     2   \n",
      "\n",
      "          rev  \n",
      "0   -0.000000  \n",
      "1  150.104454  \n",
      "2  149.092802  \n",
      "3  152.752575  \n",
      "4   98.823294  \n"
     ]
    }
   ],
   "source": [
    "import numpy as np\n",
    "import pandas as pd\n",
    "from sklearn.linear_model import LinearRegression\n",
    "from sklearn.linear_model import LogisticRegression\n",
    "from sklearn.preprocessing import PolynomialFeatures\n",
    "\n",
    "df = pd.read_csv(\"train.csv\")\n",
    "print(df.loc[0])\n",
    "df_req = df[['arrival_date_year', 'arrival_date_month', 'arrival_date_day_of_month',\n",
    "             'is_canceled', 'adr', 'stays_in_weekend_nights', 'stays_in_week_nights']]\n",
    "df_req = df_req.assign(rev = lambda x: (x.is_canceled==0)*x.adr*(x.stays_in_weekend_nights+x.stays_in_week_nights))\n",
    "print(df_req.head())"
   ]
  },
  {
   "cell_type": "code",
   "execution_count": 2,
   "metadata": {},
   "outputs": [
    {
     "name": "stdout",
     "output_type": "stream",
     "text": [
      "                       rev\n",
      "arrival_date              \n",
      "2015-07-01    20311.186621\n",
      "2015-07-02    16530.645277\n",
      "2015-07-03    12966.714164\n",
      "2015-07-04    17480.654256\n",
      "2015-07-05    19591.458478\n",
      "...                    ...\n",
      "2017-03-27    26217.381380\n",
      "2017-03-28    16185.177703\n",
      "2017-03-29    24002.255525\n",
      "2017-03-30    33095.297394\n",
      "2017-03-31    36062.103164\n",
      "\n",
      "[640 rows x 1 columns]\n"
     ]
    }
   ],
   "source": [
    "sort_dict_m = {'January':'01', 'February':'02', 'March':'03', 'April':'04', 'May':'05', 'June':'06',\n",
    "               'July':'07', 'August':'08', 'September':'09', 'October':'10', 'November':'11', 'December':'12'}\n",
    "sort_dict_d = {1:'01', 2:'02', 3:'03', 4:'04', 5:'05', 6:'06', 7:'07', 8:'08', 9:'09'}\n",
    "df_req = df_req.replace({'arrival_date_month':sort_dict_m})\n",
    "df_req = df_req.replace({'arrival_date_day_of_month':sort_dict_d})\n",
    "df_req = df_req.assign(arrival_date = lambda x: x[\"arrival_date_year\"].astype(str)+'-'+x[\"arrival_date_month\"]+'-'+x[\"arrival_date_day_of_month\"].astype(str))\n",
    "\n",
    "rev = df_req[['arrival_date', 'rev']]\n",
    "rev = rev.groupby(['arrival_date']).sum()\n",
    "print(rev)"
   ]
  },
  {
   "cell_type": "markdown",
   "metadata": {},
   "source": [
    "___\n",
    "## LogReg on **is_canceled**/ LinReg on **adr** with features selected by human brain."
   ]
  },
  {
   "cell_type": "code",
   "execution_count": 3,
   "metadata": {},
   "outputs": [],
   "source": [
    "df_test = pd.read_csv(\"test.csv\")\n",
    "\n",
    "df_test_fisc = df_test[['hotel', 'lead_time', 'is_repeated_guest', 'previous_cancellations', 'previous_bookings_not_canceled',\n",
    "                        'days_in_waiting_list', 'deposit_type']]\n",
    "df_test_fisc_encoded = pd.get_dummies(df_test_fisc, columns=['hotel', 'deposit_type'])\n",
    "poly = PolynomialFeatures(interaction_only=True)    # only interaction features are produced\n",
    "df_test_fisc_inter = poly.fit_transform(df_test_fisc_encoded)"
   ]
  },
  {
   "cell_type": "code",
   "execution_count": 4,
   "metadata": {},
   "outputs": [
    {
     "name": "stderr",
     "output_type": "stream",
     "text": [
      "C:\\Anaconda3\\lib\\site-packages\\sklearn\\linear_model\\logistic.py:432: FutureWarning: Default solver will be changed to 'lbfgs' in 0.22. Specify a solver to silence this warning.\n",
      "  FutureWarning)\n"
     ]
    },
    {
     "name": "stdout",
     "output_type": "stream",
     "text": [
      "0.7911308736930658\n",
      "[0 0 0 ... 0 0 0]\n"
     ]
    }
   ],
   "source": [
    "# selected features that affect is_canceled\n",
    "X_fisc = df[['hotel', 'lead_time', 'is_repeated_guest', 'previous_cancellations', 'previous_bookings_not_canceled',\n",
    "             'days_in_waiting_list', 'deposit_type']]\n",
    "X_fisc = X_fisc.dropna()\n",
    "X_fisc_encoded = pd.get_dummies(X_fisc, columns=['hotel', 'deposit_type'])\n",
    "\n",
    "isc = df['is_canceled']\n",
    "X_fisc_inter = poly.fit_transform(X_fisc_encoded)\n",
    "# print(np.shape(X_fisc_inter))\n",
    "reg = LogisticRegression(random_state=0).fit(X_fisc_inter, isc)\n",
    "print(reg.score(X_fisc_inter, isc))\n",
    "\n",
    "isc_pred = reg.predict(df_test_fisc_inter)\n",
    "print(isc_pred)"
   ]
  },
  {
   "cell_type": "code",
   "execution_count": 5,
   "metadata": {},
   "outputs": [],
   "source": [
    "df_test_fadr = df_test[['stays_in_weekend_nights', 'stays_in_week_nights', 'reserved_room_type', 'assigned_room_type', 'customer_type']]\n",
    "df_test_fadr_encoded = pd.get_dummies(df_test_fadr, columns=['reserved_room_type', 'assigned_room_type', 'customer_type'])\n",
    "# add missing columns\n",
    "df_test_fadr_encoded.insert(10, 'reserved_room_type_L', 0)\n",
    "df_test_fadr_encoded.insert(22, 'assigned_room_type_L', 0)\n",
    "\n",
    "df_test_fadr_inter = poly.fit_transform(df_test_fadr_encoded)"
   ]
  },
  {
   "cell_type": "code",
   "execution_count": 6,
   "metadata": {},
   "outputs": [
    {
     "name": "stdout",
     "output_type": "stream",
     "text": [
      "0.18371867578406753\n",
      "[98. 60. 58. ... 64. 76. 76.]\n"
     ]
    }
   ],
   "source": [
    "# selected features that affect adr\n",
    "X_fadr = df[['stays_in_weekend_nights', 'stays_in_week_nights', 'reserved_room_type', 'assigned_room_type', 'customer_type']]\n",
    "X_fadr = X_fadr.dropna()\n",
    "X_fadr_encoded = pd.get_dummies(X_fadr, columns=['reserved_room_type', 'assigned_room_type', 'customer_type'])\n",
    "\n",
    "adr = df['adr']\n",
    "X_fadr_inter = poly.fit_transform(X_fadr_encoded)\n",
    "# print(np.shape(X_fadr_inter))\n",
    "reg = LinearRegression(normalize=True).fit(X_fadr_inter, adr)\n",
    "print(reg.score(X_fadr_inter, adr))\n",
    "\n",
    "adr_pred = reg.predict(df_test_fadr_inter)\n",
    "print(adr_pred)"
   ]
  },
  {
   "cell_type": "markdown",
   "metadata": {},
   "source": [
    "___\n",
    "## Calculate **revenue**."
   ]
  },
  {
   "cell_type": "code",
   "execution_count": 7,
   "metadata": {},
   "outputs": [
    {
     "name": "stdout",
     "output_type": "stream",
     "text": [
      "[686. 840. 406. ... 192. 532.  76.]\n"
     ]
    }
   ],
   "source": [
    "# Calculate rev from predicted is_canceled and adr\n",
    "rev_pred = np.zeros(np.shape(isc_pred)[0])\n",
    "for i in range (np.shape(isc_pred)[0]):\n",
    "    rev_pred[i] = (isc_pred[i]==0)*adr_pred[i]*(df_test['stays_in_weekend_nights'][i] + df_test['stays_in_week_nights'][i])\n",
    "print(rev_pred)"
   ]
  },
  {
   "cell_type": "code",
   "execution_count": 8,
   "metadata": {},
   "outputs": [
    {
     "name": "stdout",
     "output_type": "stream",
     "text": [
      "                  rev\n",
      "arrival_date         \n",
      "2017-04-01    49962.0\n",
      "2017-04-02    34222.0\n",
      "2017-04-03    51670.0\n",
      "2017-04-04    24264.0\n",
      "2017-04-05    47382.0\n",
      "...               ...\n",
      "2017-08-27    54086.0\n",
      "2017-08-28    75314.0\n",
      "2017-08-29    36204.0\n",
      "2017-08-30    27490.0\n",
      "2017-08-31    43962.0\n",
      "\n",
      "[153 rows x 1 columns]\n"
     ]
    }
   ],
   "source": [
    "# Sum daily revenues\n",
    "df_test.insert(np.shape(df_test)[1], 'rev', rev_pred)\n",
    "df_test = df_test.replace({'arrival_date_month':sort_dict_m})\n",
    "df_test = df_test.replace({'arrival_date_day_of_month':sort_dict_d})\n",
    "df_test = df_test.assign(arrival_date = lambda x: x[\"arrival_date_year\"].astype(str)+'-'+x[\"arrival_date_month\"]+'-'+x[\"arrival_date_day_of_month\"].astype(str))\n",
    "\n",
    "df_test_rev = df_test[['arrival_date', 'rev']]\n",
    "df_test_rev = df_test_rev.groupby(['arrival_date']).sum()\n",
    "print(df_test_rev)"
   ]
  },
  {
   "cell_type": "markdown",
   "metadata": {},
   "source": [
    "___\n",
    "## From **revenue** to **ranking**."
   ]
  },
  {
   "cell_type": "code",
   "execution_count": 9,
   "metadata": {},
   "outputs": [],
   "source": [
    "df_y = pd.read_csv(\"train_label.csv\")\n",
    "rank = df_y['label']"
   ]
  },
  {
   "cell_type": "code",
   "execution_count": 10,
   "metadata": {},
   "outputs": [
    {
     "name": "stdout",
     "output_type": "stream",
     "text": [
      "0.96217008017884\n"
     ]
    }
   ],
   "source": [
    "poly = PolynomialFeatures(2)    # default degree: 2, may change\n",
    "rev_inter = poly.fit_transform(rev)\n",
    "reg = LinearRegression(normalize=True).fit(rev_inter, rank)\n",
    "print(reg.score(rev_inter, rank))\n",
    "\n",
    "df_test_rev_inter = poly.fit_transform(df_test_rev)\n",
    "rank_pred = reg.predict(df_test_rev_inter)\n",
    "for i in range(np.shape(rank_pred)[0]):\n",
    "    if (rank_pred[i] < 0):\n",
    "        rank_pred[i] = 0\n",
    "    elif (rank_pred[i] > 9):\n",
    "        rank_pred[i] = 9\n",
    "    else:\n",
    "        rank_pred[i] = round(rank_pred[i])\n",
    "# print(rank_pred)"
   ]
  },
  {
   "cell_type": "code",
   "execution_count": 11,
   "metadata": {},
   "outputs": [
    {
     "name": "stdout",
     "output_type": "stream",
     "text": [
      "              label\n",
      "arrival_date       \n",
      "2017-04-01      4.0\n",
      "2017-04-02      3.0\n",
      "2017-04-03      5.0\n",
      "2017-04-04      2.0\n",
      "2017-04-05      4.0\n",
      "...             ...\n",
      "2017-08-27      5.0\n",
      "2017-08-28      7.0\n",
      "2017-08-29      3.0\n",
      "2017-08-30      2.0\n",
      "2017-08-31      4.0\n",
      "\n",
      "[153 rows x 1 columns]\n"
     ]
    }
   ],
   "source": [
    "# Generate submission file\n",
    "ans = df_test_rev\n",
    "ans['label'] = rank_pred\n",
    "ans.drop(columns=['rev'], inplace=True)\n",
    "print(ans)\n",
    "# ans.to_csv('out.csv')"
   ]
  }
 ],
 "metadata": {
  "kernelspec": {
   "display_name": "Python 3",
   "language": "python",
   "name": "python3"
  },
  "language_info": {
   "codemirror_mode": {
    "name": "ipython",
    "version": 3
   },
   "file_extension": ".py",
   "mimetype": "text/x-python",
   "name": "python",
   "nbconvert_exporter": "python",
   "pygments_lexer": "ipython3",
   "version": "3.7.4"
  }
 },
 "nbformat": 4,
 "nbformat_minor": 4
}
